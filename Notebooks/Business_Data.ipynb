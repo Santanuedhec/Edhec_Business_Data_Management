{
 "cells": [
  {
   "cell_type": "code",
   "execution_count": 1,
   "id": "ce58a0e7-4ff0-4e13-93c8-6ce1275f2bfa",
   "metadata": {},
   "outputs": [],
   "source": [
    "import pandas as pd\n",
    "import numpy as np\n",
    "import re\n",
    "from google.cloud import bigquery\n",
    "import requests"
   ]
  },
  {
   "cell_type": "code",
   "execution_count": 1,
   "id": "593f0453",
   "metadata": {},
   "outputs": [
    {
     "ename": "ModuleNotFoundError",
     "evalue": "No module named 'groupproject'",
     "output_type": "error",
     "traceback": [
      "\u001b[1;31m---------------------------------------------------------------------------\u001b[0m",
      "\u001b[1;31mModuleNotFoundError\u001b[0m                       Traceback (most recent call last)",
      "Cell \u001b[1;32mIn[1], line 1\u001b[0m\n\u001b[1;32m----> 1\u001b[0m \u001b[38;5;28;01mimport\u001b[39;00m\u001b[38;5;250m \u001b[39m\u001b[38;5;21;01mgroupproject\u001b[39;00m\n",
      "\u001b[1;31mModuleNotFoundError\u001b[0m: No module named 'groupproject'"
     ]
    }
   ],
   "source": [
    "import groupproject"
   ]
  },
  {
   "cell_type": "code",
   "execution_count": 2,
   "id": "1c641258-e4d9-4859-8b15-f2c84e175422",
   "metadata": {},
   "outputs": [
    {
     "name": "stdout",
     "output_type": "stream",
     "text": [
      "Requirement already satisfied: google-cloud-bigquery in d:\\anaconda3\\lib\\site-packages (3.29.0)\n",
      "Requirement already satisfied: pandas in d:\\anaconda3\\lib\\site-packages (2.2.2)\n",
      "Requirement already satisfied: google-api-core<3.0.0dev,>=2.11.1 in d:\\anaconda3\\lib\\site-packages (from google-api-core[grpc]<3.0.0dev,>=2.11.1->google-cloud-bigquery) (2.24.1)\n",
      "Requirement already satisfied: google-auth<3.0.0dev,>=2.14.1 in d:\\anaconda3\\lib\\site-packages (from google-cloud-bigquery) (2.38.0)\n",
      "Requirement already satisfied: google-cloud-core<3.0.0dev,>=2.4.1 in d:\\anaconda3\\lib\\site-packages (from google-cloud-bigquery) (2.4.1)\n",
      "Requirement already satisfied: google-resumable-media<3.0dev,>=2.0.0 in d:\\anaconda3\\lib\\site-packages (from google-cloud-bigquery) (2.7.2)\n",
      "Requirement already satisfied: packaging>=20.0.0 in d:\\anaconda3\\lib\\site-packages (from google-cloud-bigquery) (24.1)\n",
      "Requirement already satisfied: python-dateutil<3.0dev,>=2.7.3 in d:\\anaconda3\\lib\\site-packages (from google-cloud-bigquery) (2.9.0.post0)\n",
      "Requirement already satisfied: requests<3.0.0dev,>=2.21.0 in d:\\anaconda3\\lib\\site-packages (from google-cloud-bigquery) (2.32.3)\n",
      "Requirement already satisfied: numpy>=1.26.0 in d:\\anaconda3\\lib\\site-packages (from pandas) (1.26.4)\n",
      "Requirement already satisfied: pytz>=2020.1 in d:\\anaconda3\\lib\\site-packages (from pandas) (2024.1)\n",
      "Requirement already satisfied: tzdata>=2022.7 in d:\\anaconda3\\lib\\site-packages (from pandas) (2023.3)\n",
      "Requirement already satisfied: googleapis-common-protos<2.0.dev0,>=1.56.2 in d:\\anaconda3\\lib\\site-packages (from google-api-core<3.0.0dev,>=2.11.1->google-api-core[grpc]<3.0.0dev,>=2.11.1->google-cloud-bigquery) (1.67.0)\n",
      "Requirement already satisfied: protobuf!=3.20.0,!=3.20.1,!=4.21.0,!=4.21.1,!=4.21.2,!=4.21.3,!=4.21.4,!=4.21.5,<6.0.0.dev0,>=3.19.5 in d:\\anaconda3\\lib\\site-packages (from google-api-core<3.0.0dev,>=2.11.1->google-api-core[grpc]<3.0.0dev,>=2.11.1->google-cloud-bigquery) (5.29.3)\n",
      "Requirement already satisfied: proto-plus<2.0.0dev,>=1.22.3 in d:\\anaconda3\\lib\\site-packages (from google-api-core<3.0.0dev,>=2.11.1->google-api-core[grpc]<3.0.0dev,>=2.11.1->google-cloud-bigquery) (1.26.0)\n",
      "Requirement already satisfied: grpcio<2.0dev,>=1.33.2 in d:\\anaconda3\\lib\\site-packages (from google-api-core[grpc]<3.0.0dev,>=2.11.1->google-cloud-bigquery) (1.70.0)\n",
      "Requirement already satisfied: grpcio-status<2.0.dev0,>=1.33.2 in d:\\anaconda3\\lib\\site-packages (from google-api-core[grpc]<3.0.0dev,>=2.11.1->google-cloud-bigquery) (1.70.0)\n",
      "Requirement already satisfied: cachetools<6.0,>=2.0.0 in d:\\anaconda3\\lib\\site-packages (from google-auth<3.0.0dev,>=2.14.1->google-cloud-bigquery) (5.3.3)\n",
      "Requirement already satisfied: pyasn1-modules>=0.2.1 in d:\\anaconda3\\lib\\site-packages (from google-auth<3.0.0dev,>=2.14.1->google-cloud-bigquery) (0.2.8)\n",
      "Requirement already satisfied: rsa<5,>=3.1.4 in d:\\anaconda3\\lib\\site-packages (from google-auth<3.0.0dev,>=2.14.1->google-cloud-bigquery) (4.9)\n",
      "Requirement already satisfied: google-crc32c<2.0dev,>=1.0 in d:\\anaconda3\\lib\\site-packages (from google-resumable-media<3.0dev,>=2.0.0->google-cloud-bigquery) (1.6.0)\n",
      "Requirement already satisfied: six>=1.5 in d:\\anaconda3\\lib\\site-packages (from python-dateutil<3.0dev,>=2.7.3->google-cloud-bigquery) (1.16.0)\n",
      "Requirement already satisfied: charset-normalizer<4,>=2 in d:\\anaconda3\\lib\\site-packages (from requests<3.0.0dev,>=2.21.0->google-cloud-bigquery) (3.3.2)\n",
      "Requirement already satisfied: idna<4,>=2.5 in d:\\anaconda3\\lib\\site-packages (from requests<3.0.0dev,>=2.21.0->google-cloud-bigquery) (3.7)\n",
      "Requirement already satisfied: urllib3<3,>=1.21.1 in d:\\anaconda3\\lib\\site-packages (from requests<3.0.0dev,>=2.21.0->google-cloud-bigquery) (2.2.3)\n",
      "Requirement already satisfied: certifi>=2017.4.17 in d:\\anaconda3\\lib\\site-packages (from requests<3.0.0dev,>=2.21.0->google-cloud-bigquery) (2024.8.30)\n",
      "Requirement already satisfied: pyasn1<0.5.0,>=0.4.6 in d:\\anaconda3\\lib\\site-packages (from pyasn1-modules>=0.2.1->google-auth<3.0.0dev,>=2.14.1->google-cloud-bigquery) (0.4.8)\n"
     ]
    }
   ],
   "source": [
    "!pip install google-cloud-bigquery pandas"
   ]
  },
  {
   "cell_type": "code",
   "execution_count": 3,
   "id": "40eb82a3-0866-4680-8a11-f12e5c394a42",
   "metadata": {},
   "outputs": [
    {
     "name": "stdout",
     "output_type": "stream",
     "text": [
      "Requirement already satisfied: db-dtypes in d:\\anaconda3\\lib\\site-packages (1.4.1)\n",
      "Requirement already satisfied: packaging>=17.0 in d:\\anaconda3\\lib\\site-packages (from db-dtypes) (24.1)\n",
      "Requirement already satisfied: pandas>=0.24.2 in d:\\anaconda3\\lib\\site-packages (from db-dtypes) (2.2.2)\n",
      "Requirement already satisfied: pyarrow>=3.0.0 in d:\\anaconda3\\lib\\site-packages (from db-dtypes) (16.1.0)\n",
      "Requirement already satisfied: numpy>=1.16.6 in d:\\anaconda3\\lib\\site-packages (from db-dtypes) (1.26.4)\n",
      "Requirement already satisfied: python-dateutil>=2.8.2 in d:\\anaconda3\\lib\\site-packages (from pandas>=0.24.2->db-dtypes) (2.9.0.post0)\n",
      "Requirement already satisfied: pytz>=2020.1 in d:\\anaconda3\\lib\\site-packages (from pandas>=0.24.2->db-dtypes) (2024.1)\n",
      "Requirement already satisfied: tzdata>=2022.7 in d:\\anaconda3\\lib\\site-packages (from pandas>=0.24.2->db-dtypes) (2023.3)\n",
      "Requirement already satisfied: six>=1.5 in d:\\anaconda3\\lib\\site-packages (from python-dateutil>=2.8.2->pandas>=0.24.2->db-dtypes) (1.16.0)\n"
     ]
    }
   ],
   "source": [
    "!pip install db-dtypes"
   ]
  },
  {
   "cell_type": "code",
   "execution_count": 4,
   "id": "daa6ebad-dcde-4490-98a0-f9e1a6a0bb2f",
   "metadata": {},
   "outputs": [
    {
     "name": "stdout",
     "output_type": "stream",
     "text": [
      "Name: db-dtypes\n",
      "Version: 1.4.1\n",
      "Summary: Pandas Data Types for SQL systems (BigQuery, Spanner)\n",
      "Home-page: https://github.com/googleapis/python-db-dtypes-pandas\n",
      "Author: The db-dtypes Authors\n",
      "Author-email: googleapis-packages@google.com\n",
      "License: \n",
      "Location: D:\\anaconda3\\Lib\\site-packages\n",
      "Requires: numpy, packaging, pandas, pyarrow\n",
      "Required-by: \n",
      "Note: you may need to restart the kernel to use updated packages.\n"
     ]
    }
   ],
   "source": [
    "pip show db-dtypes"
   ]
  },
  {
   "cell_type": "markdown",
   "id": "0b4ec5ff-bdc9-4e93-9a9c-cdbfc1ac1fa8",
   "metadata": {},
   "source": [
    "#Fetching Data from BigQuery."
   ]
  },
  {
   "cell_type": "code",
   "execution_count": 5,
   "id": "55236220-ec4c-416a-a7b7-83e8ff5c8e2e",
   "metadata": {},
   "outputs": [],
   "source": [
    "import os\n",
    "os.environ[\"GOOGLE_APPLICATION_CREDENTIALS\"] = r\"C:\\Users\\Santanu Pal\\Downloads\\biqquery-demo-451221-9b98e9b6eb70.json\""
   ]
  },
  {
   "cell_type": "code",
   "execution_count": 6,
   "id": "85e6429a-a6ad-4936-9667-ed485d850c45",
   "metadata": {},
   "outputs": [],
   "source": [
    "client = bigquery.Client()"
   ]
  },
  {
   "cell_type": "code",
   "execution_count": 7,
   "id": "8f952501-56f3-4b88-bcee-abf0fd901139",
   "metadata": {},
   "outputs": [],
   "source": [
    "query = \"\"\"\n",
    "select * from `edhec-business-manageme.luxurydata2502.price-monitoring-2022`\n",
    "where brand ='Chaumet'\n",
    "\"\"\""
   ]
  },
  {
   "cell_type": "code",
   "execution_count": 8,
   "id": "39d2caa9-f48f-4ba6-bee2-9bf5f1c0b6e6",
   "metadata": {},
   "outputs": [
    {
     "name": "stderr",
     "output_type": "stream",
     "text": [
      "D:\\anaconda3\\Lib\\site-packages\\google\\cloud\\bigquery\\table.py:1820: UserWarning: BigQuery Storage module not found, fetch data with the REST endpoint instead.\n",
      "  warnings.warn(\n"
     ]
    }
   ],
   "source": [
    "query_job = client.query(query)  # Execute query\n",
    "df1 = query_job.to_dataframe()  # Convert result to Pandas DataFrame"
   ]
  },
  {
   "cell_type": "code",
   "execution_count": 9,
   "id": "a778f5a4-ada1-48de-afe4-375d8abf9793",
   "metadata": {},
   "outputs": [
    {
     "name": "stdout",
     "output_type": "stream",
     "text": [
      "      uid    brand                                                url  price  \\\n",
      "0  734976  Chaumet  https://www.chaumet.com/zh_hans/montre-torsade...   <NA>   \n",
      "1  734977  Chaumet  https://www.chaumet.com/zh_hans/montre-a-secre...   <NA>   \n",
      "2  734978  Chaumet  https://www.chaumet.com/zh_hans/montre-josephi...  89110   \n",
      "3  734979  Chaumet  https://www.chaumet.com/zh_hans/chaumet-montre...  56330   \n",
      "4  734980  Chaumet  https://www.chaumet.com/zh_hans/montre-josephi...  60110   \n",
      "\n",
      "  currency                                          image_url  \\\n",
      "0      CNY  https://asset.chaumet.com/m/6466a10f99c1a6f4/o...   \n",
      "1      CNY  https://asset.chaumet.com/m/4afe2a432ff92cbd/o...   \n",
      "2      CNY  https://asset.chaumet.com/m/7449ae4f712dd144/o...   \n",
      "3      CNY  https://asset.chaumet.com/m/4ee9ff91e12af6c1/o...   \n",
      "4      CNY  https://asset.chaumet.com/m/7dd24ab7074b95b4/o...   \n",
      "\n",
      "                                collection reference_code country  \\\n",
      "0                MONTRE TORSADE DE CHAUMET     W84772-001    None   \n",
      "1  MONTRE À SECRET L'ÉPI DE BLÉ DE CHAUMET     W84762-001    None   \n",
      "2                MONTRE JOSÉPHINE AIGRETTE     W85165-001    None   \n",
      "3                MONTRE JOSÉPHINE AIGRETTE     W85166-001    None   \n",
      "4                MONTRE JOSÉPHINE AIGRETTE     W85164-001    None   \n",
      "\n",
      "  life_span_date        life_span  price_before  price_difference  \\\n",
      "0     2021-10-30  Q4 October 2021           NaN                 0   \n",
      "1     2021-10-30  Q4 October 2021           NaN                 0   \n",
      "2     2021-10-30  Q4 October 2021           NaN                 0   \n",
      "3     2021-10-30  Q4 October 2021           NaN                 0   \n",
      "4     2021-10-30  Q4 October 2021           NaN                 0   \n",
      "\n",
      "   price_percent_change  price_changed  is_new  \n",
      "0                   0.0            0.0     NaN  \n",
      "1                   0.0            0.0     NaN  \n",
      "2                   0.0            0.0     NaN  \n",
      "3                   0.0            0.0     NaN  \n",
      "4                   0.0            0.0     NaN  \n"
     ]
    }
   ],
   "source": [
    "print(df1.head())"
   ]
  },
  {
   "cell_type": "code",
   "execution_count": 10,
   "id": "1d8fb437-edac-4752-9473-5362b3038dcd",
   "metadata": {},
   "outputs": [],
   "source": [
    "df1_1 = df1.copy()"
   ]
  },
  {
   "cell_type": "code",
   "execution_count": 11,
   "id": "b6b80279-40d9-4bdf-ad17-e8fe09f2d8c8",
   "metadata": {},
   "outputs": [
    {
     "name": "stdout",
     "output_type": "stream",
     "text": [
      "Index(['uid', 'brand', 'url', 'price', 'currency', 'image_url', 'collection',\n",
      "       'reference_code', 'country', 'life_span_date', 'life_span',\n",
      "       'price_before', 'price_difference', 'price_percent_change',\n",
      "       'price_changed', 'is_new'],\n",
      "      dtype='object')\n"
     ]
    }
   ],
   "source": [
    "print(df1.columns)"
   ]
  },
  {
   "cell_type": "markdown",
   "id": "c2e155fc-677c-493a-9fcc-2956330bc8fc",
   "metadata": {},
   "source": [
    "#Fetching Data from CSV"
   ]
  },
  {
   "cell_type": "code",
   "execution_count": 12,
   "id": "f5d9546e-227b-448f-860f-955de31b9a03",
   "metadata": {},
   "outputs": [
    {
     "name": "stdout",
     "output_type": "stream",
     "text": [
      "        brand                                                url  \\\n",
      "1561  Chaumet  https://www.chaumet.com/ae_en/hortensia-watch-...   \n",
      "1562  Chaumet  https://www.chaumet.com/ae_en/hortensia-watch-...   \n",
      "1563  Chaumet  https://www.chaumet.com/ae_en/hortensia-watch-...   \n",
      "1564  Chaumet  https://www.chaumet.com/ae_en/hortensia-watch-...   \n",
      "1565  Chaumet  https://www.chaumet.com/ae_en/hortensia-watch-...   \n",
      "\n",
      "                                              image_url collection  \\\n",
      "1561  https://asset.chaumet.com/m/201926e56c3fba5a/o...  HORTENSIA   \n",
      "1562  https://asset.chaumet.com/m/20c02d1b0fe4c943/o...  HORTENSIA   \n",
      "1563  https://asset.chaumet.com/m/606c0893a1101ab1/o...  HORTENSIA   \n",
      "1564  https://asset.chaumet.com/m/6f91985624524d42/o...  HORTENSIA   \n",
      "1565  https://asset.chaumet.com/m/19189325508e3dae/o...  HORTENSIA   \n",
      "\n",
      "     reference_code    price currency               country  \\\n",
      "1561          85410  24000.0      AED  United Arab Emirates   \n",
      "1562          85411  24000.0      AED  United Arab Emirates   \n",
      "1563          85412  24000.0      AED  United Arab Emirates   \n",
      "1564          85413  37200.0      AED  United Arab Emirates   \n",
      "1565          85414  41200.0      AED  United Arab Emirates   \n",
      "\n",
      "           life_span_date category scrapping_date  \n",
      "1561  2025-01-28 00:00:00  Watches     2025-01-06  \n",
      "1562  2025-01-28 00:00:00  Watches     2025-01-06  \n",
      "1563  2025-01-28 00:00:00  Watches     2025-01-06  \n",
      "1564  2025-01-28 00:00:00  Watches     2025-01-06  \n",
      "1565  2025-01-28 00:00:00  Watches     2025-01-06  \n"
     ]
    }
   ],
   "source": [
    "# Read the CSV file with the correct delimiter\n",
    "df2 = pd.read_csv(r\"C:\\Users\\Santanu Pal\\Downloads\\PM_extract_Jan_2025_10_brands.csv\", sep=';', on_bad_lines='skip')\n",
    "# Filter the DataFrame to include only rows where the Brand is 'Chaumet'\n",
    "df3 = df2[df2['brand'] == 'Chaumet']\n",
    "# Display the first few rows of the filtered DataFrame\n",
    "print(df3.head())"
   ]
  },
  {
   "cell_type": "code",
   "execution_count": 13,
   "id": "12f60a98-28a1-4f20-9b3c-ca3f4fcad153",
   "metadata": {},
   "outputs": [
    {
     "data": {
      "text/plain": [
       "Index(['brand', 'url', 'image_url', 'collection', 'reference_code', 'price',\n",
       "       'currency', 'country', 'life_span_date', 'category', 'scrapping_date'],\n",
       "      dtype='object')"
      ]
     },
     "execution_count": 13,
     "metadata": {},
     "output_type": "execute_result"
    }
   ],
   "source": [
    "df3.columns"
   ]
  },
  {
   "cell_type": "code",
   "execution_count": 14,
   "id": "66cf46e1-cfd7-4d2b-a4df-94c3922c7129",
   "metadata": {},
   "outputs": [
    {
     "name": "stdout",
     "output_type": "stream",
     "text": [
      "object\n"
     ]
    }
   ],
   "source": [
    "print(df1['reference_code'].dtype)"
   ]
  },
  {
   "cell_type": "markdown",
   "id": "d19ccd79-c22f-4a5b-8d1c-c4f6a47d44e1",
   "metadata": {},
   "source": [
    "#DataPreprocessing"
   ]
  },
  {
   "cell_type": "code",
   "execution_count": 15,
   "id": "2178074b-ea6c-40ca-a12f-5c6a39be1e63",
   "metadata": {},
   "outputs": [
    {
     "data": {
      "text/html": [
       "<div>\n",
       "<style scoped>\n",
       "    .dataframe tbody tr th:only-of-type {\n",
       "        vertical-align: middle;\n",
       "    }\n",
       "\n",
       "    .dataframe tbody tr th {\n",
       "        vertical-align: top;\n",
       "    }\n",
       "\n",
       "    .dataframe thead th {\n",
       "        text-align: right;\n",
       "    }\n",
       "</style>\n",
       "<table border=\"1\" class=\"dataframe\">\n",
       "  <thead>\n",
       "    <tr style=\"text-align: right;\">\n",
       "      <th></th>\n",
       "      <th>uid</th>\n",
       "      <th>brand</th>\n",
       "      <th>url</th>\n",
       "      <th>price</th>\n",
       "      <th>currency</th>\n",
       "      <th>image_url</th>\n",
       "      <th>collection</th>\n",
       "      <th>reference_code</th>\n",
       "      <th>country</th>\n",
       "      <th>life_span_date</th>\n",
       "      <th>life_span</th>\n",
       "      <th>price_before</th>\n",
       "      <th>price_difference</th>\n",
       "      <th>price_percent_change</th>\n",
       "      <th>price_changed</th>\n",
       "      <th>is_new</th>\n",
       "    </tr>\n",
       "  </thead>\n",
       "  <tbody>\n",
       "    <tr>\n",
       "      <th>0</th>\n",
       "      <td>734976</td>\n",
       "      <td>Chaumet</td>\n",
       "      <td>https://www.chaumet.com/zh_hans/montre-torsade...</td>\n",
       "      <td>&lt;NA&gt;</td>\n",
       "      <td>CNY</td>\n",
       "      <td>https://asset.chaumet.com/m/6466a10f99c1a6f4/o...</td>\n",
       "      <td>MONTRE TORSADE DE CHAUMET</td>\n",
       "      <td>84772</td>\n",
       "      <td>None</td>\n",
       "      <td>2021-10-30</td>\n",
       "      <td>Q4 October 2021</td>\n",
       "      <td>NaN</td>\n",
       "      <td>0</td>\n",
       "      <td>0.0</td>\n",
       "      <td>0.0</td>\n",
       "      <td>NaN</td>\n",
       "    </tr>\n",
       "    <tr>\n",
       "      <th>1</th>\n",
       "      <td>734977</td>\n",
       "      <td>Chaumet</td>\n",
       "      <td>https://www.chaumet.com/zh_hans/montre-a-secre...</td>\n",
       "      <td>&lt;NA&gt;</td>\n",
       "      <td>CNY</td>\n",
       "      <td>https://asset.chaumet.com/m/4afe2a432ff92cbd/o...</td>\n",
       "      <td>MONTRE À SECRET L'ÉPI DE BLÉ DE CHAUMET</td>\n",
       "      <td>84762</td>\n",
       "      <td>None</td>\n",
       "      <td>2021-10-30</td>\n",
       "      <td>Q4 October 2021</td>\n",
       "      <td>NaN</td>\n",
       "      <td>0</td>\n",
       "      <td>0.0</td>\n",
       "      <td>0.0</td>\n",
       "      <td>NaN</td>\n",
       "    </tr>\n",
       "  </tbody>\n",
       "</table>\n",
       "</div>"
      ],
      "text/plain": [
       "      uid    brand                                                url  price  \\\n",
       "0  734976  Chaumet  https://www.chaumet.com/zh_hans/montre-torsade...   <NA>   \n",
       "1  734977  Chaumet  https://www.chaumet.com/zh_hans/montre-a-secre...   <NA>   \n",
       "\n",
       "  currency                                          image_url  \\\n",
       "0      CNY  https://asset.chaumet.com/m/6466a10f99c1a6f4/o...   \n",
       "1      CNY  https://asset.chaumet.com/m/4afe2a432ff92cbd/o...   \n",
       "\n",
       "                                collection reference_code country  \\\n",
       "0                MONTRE TORSADE DE CHAUMET          84772    None   \n",
       "1  MONTRE À SECRET L'ÉPI DE BLÉ DE CHAUMET          84762    None   \n",
       "\n",
       "  life_span_date        life_span  price_before  price_difference  \\\n",
       "0     2021-10-30  Q4 October 2021           NaN                 0   \n",
       "1     2021-10-30  Q4 October 2021           NaN                 0   \n",
       "\n",
       "   price_percent_change  price_changed  is_new  \n",
       "0                   0.0            0.0     NaN  \n",
       "1                   0.0            0.0     NaN  "
      ]
     },
     "execution_count": 15,
     "metadata": {},
     "output_type": "execute_result"
    }
   ],
   "source": [
    "df1_1['reference_code'] = df1_1['reference_code'].astype(str).str[1:6]\n",
    "df1_1.head(2)"
   ]
  },
  {
   "cell_type": "code",
   "execution_count": 16,
   "id": "b9a1f57f-6854-4e3b-aded-d99894a135ee",
   "metadata": {},
   "outputs": [
    {
     "name": "stdout",
     "output_type": "stream",
     "text": [
      "   category reference_code  count\n",
      "0   Watches          13511      9\n",
      "1   Watches          21182      9\n",
      "2   Watches          21183      9\n",
      "3   Watches          21196      9\n",
      "4   Watches          83798      9\n",
      "5   Watches          83878      9\n",
      "6   Watches          83887      9\n",
      "7   Watches          84017      9\n",
      "8   Watches          84028      9\n",
      "9   Watches          84045      9\n",
      "10  Watches          84063      9\n",
      "11  Watches          84207      9\n",
      "12  Watches          84217      9\n",
      "13  Watches          84254      9\n",
      "14  Watches          84420      9\n",
      "15  Watches          84499      9\n",
      "16  Watches          84530      9\n",
      "17  Watches          84755      9\n",
      "18  Watches          84762      9\n",
      "19  Watches          84772      9\n",
      "20  Watches          84826      9\n",
      "21  Watches          85165      9\n",
      "22  Watches          85166      9\n",
      "23  Watches          85167      9\n",
      "24  Watches          85187      9\n",
      "25  Watches          85193      9\n",
      "26  Watches          85194      9\n",
      "27  Watches          85373      9\n",
      "28  Watches          85375      9\n",
      "29  Watches          85410      9\n",
      "30  Watches          85411      9\n",
      "31  Watches          85412      9\n",
      "32  Watches          85413      9\n",
      "33  Watches          85414      9\n",
      "34  Watches          85415      9\n",
      "35  Watches          85416      9\n",
      "36  Watches          85429      9\n",
      "37  Watches          85444      9\n"
     ]
    }
   ],
   "source": [
    "df_grouped = df3.groupby(['category', 'reference_code']).size().reset_index(name='count')\n",
    "\n",
    "# Display the grouped DataFrame\n",
    "print(df_grouped)"
   ]
  },
  {
   "cell_type": "code",
   "execution_count": 17,
   "id": "6391edc2-2068-4f07-8860-a6a6f4249156",
   "metadata": {},
   "outputs": [
    {
     "name": "stdout",
     "output_type": "stream",
     "text": [
      "           uid    brand                                                url  \\\n",
      "0       734976  Chaumet  https://www.chaumet.com/zh_hans/montre-torsade...   \n",
      "1       734977  Chaumet  https://www.chaumet.com/zh_hans/montre-a-secre...   \n",
      "2       734978  Chaumet  https://www.chaumet.com/zh_hans/montre-josephi...   \n",
      "3       734979  Chaumet  https://www.chaumet.com/zh_hans/chaumet-montre...   \n",
      "4       734980  Chaumet  https://www.chaumet.com/zh_hans/montre-josephi...   \n",
      "...        ...      ...                                                ...   \n",
      "22785  3498393  Chaumet  https://www.chaumet.cn/cn_zh/josephine-rondes-...   \n",
      "22786  3498394  Chaumet  https://www.chaumet.cn/cn_zh/dandy-watch-large...   \n",
      "22787  3498395  Chaumet  https://www.chaumet.cn/cn_zh/eclosion-de-chaum...   \n",
      "22788  3498396  Chaumet  https://www.chaumet.cn/cn_zh/esquisse-de-chaum...   \n",
      "22789  3498397  Chaumet  https://www.chaumet.cn/cn_zh/colombes-creative...   \n",
      "\n",
      "        price currency                                          image_url  \\\n",
      "0        <NA>      CNY  https://asset.chaumet.com/m/6466a10f99c1a6f4/o...   \n",
      "1        <NA>      CNY  https://asset.chaumet.com/m/4afe2a432ff92cbd/o...   \n",
      "2       89110      CNY  https://asset.chaumet.com/m/7449ae4f712dd144/o...   \n",
      "3       56330      CNY  https://asset.chaumet.com/m/4ee9ff91e12af6c1/o...   \n",
      "4       60110      CNY  https://asset.chaumet.com/m/7dd24ab7074b95b4/o...   \n",
      "...       ...      ...                                                ...   \n",
      "22785  520000      CNY  https://asset.chaumet.com/m/2a7cc4a5118f0774/o...   \n",
      "22786   43700      CNY  https://asset.chaumet.com/m/6ce3fc0e6d2c8eda/o...   \n",
      "22787  426000      CNY  https://asset.chaumet.com/m/14cbc1fb236e95f2/o...   \n",
      "22788  426000      CNY  https://asset.chaumet.com/m/141d96b3e5a52101/o...   \n",
      "22789  961000      CNY  https://asset.chaumet.com/m/1d433f37c8babeea/o...   \n",
      "\n",
      "                                              collection reference_code  \\\n",
      "0                              MONTRE TORSADE DE CHAUMET          84772   \n",
      "1                MONTRE À SECRET L'ÉPI DE BLÉ DE CHAUMET          84762   \n",
      "2                              MONTRE JOSÉPHINE AIGRETTE          85165   \n",
      "3                              MONTRE JOSÉPHINE AIGRETTE          85166   \n",
      "4                              MONTRE JOSÉPHINE AIGRETTE          85164   \n",
      "...                                                  ...            ...   \n",
      "22785  HTTPS://WWW.CHAUMET.CN/CN_ZH/JOSEPHINE RONDES ...          3110-   \n",
      "22786                 HTTPS://WWW.CHAUMET.CN/CN_ZH/DANDY          1288-   \n",
      "22787   HTTPS://WWW.CHAUMET.CN/CN_ZH/ECLOSION DE CHAUMET          4251-   \n",
      "22788   HTTPS://WWW.CHAUMET.CN/CN_ZH/ESQUISSE DE CHAUMET          4249-   \n",
      "22789  HTTPS://WWW.CHAUMET.CN/CN_ZH/COLOMBES CREATIVE...          4199-   \n",
      "\n",
      "      country life_span_date         life_span  price_before  \\\n",
      "0        None     2021-10-30   Q4 October 2021           NaN   \n",
      "1        None     2021-10-30   Q4 October 2021           NaN   \n",
      "2        None     2021-10-30   Q4 October 2021           NaN   \n",
      "3        None     2021-10-30   Q4 October 2021           NaN   \n",
      "4        None     2021-10-30   Q4 October 2021           NaN   \n",
      "...       ...            ...               ...           ...   \n",
      "22785    None     2022-12-28  Q4 December 2022      520000.0   \n",
      "22786    None     2022-12-28  Q4 December 2022       43700.0   \n",
      "22787    None     2022-12-28  Q4 December 2022      426000.0   \n",
      "22788    None     2022-12-28  Q4 December 2022      426000.0   \n",
      "22789    None     2022-12-28  Q4 December 2022      961000.0   \n",
      "\n",
      "       price_difference  price_percent_change  price_changed  is_new category  \n",
      "0                     0                   0.0            0.0     NaN  Watches  \n",
      "1                     0                   0.0            0.0     NaN  Watches  \n",
      "2                     0                   0.0            0.0     NaN  Watches  \n",
      "3                     0                   0.0            0.0     NaN  Watches  \n",
      "4                     0                   0.0            0.0     NaN  Unknown  \n",
      "...                 ...                   ...            ...     ...      ...  \n",
      "22785                 0                   0.0            0.0     NaN  Unknown  \n",
      "22786                 0                   0.0            0.0     NaN  Unknown  \n",
      "22787                 0                   0.0            0.0     NaN  Unknown  \n",
      "22788                 0                   0.0            0.0     NaN  Unknown  \n",
      "22789                 0                   0.0            0.0     NaN  Unknown  \n",
      "\n",
      "[22790 rows x 17 columns]\n"
     ]
    }
   ],
   "source": [
    "# Convert reference_code to string (if needed)\n",
    "df1_1['reference_code'] = df1_1['reference_code'].astype(str)\n",
    "df_grouped['reference_code'] = df_grouped['reference_code'].astype(str)\n",
    "\n",
    "# Function to fetch category based on reference_code\n",
    "def get_category(ref_code):\n",
    "    match = df_grouped[df_grouped['reference_code'] == ref_code]['category']\n",
    "    return match.iloc[0] if not match.empty else 'Unknown'  # Default value if not found\n",
    "\n",
    "# Apply function to create a new category column in df1_1\n",
    "df1_1['category'] = df1_1['reference_code'].apply(get_category)\n",
    "\n",
    "# Display updated DataFrame\n",
    "print(df1_1)"
   ]
  },
  {
   "cell_type": "code",
   "execution_count": 18,
   "id": "3b1a0199-b913-4afa-9712-cc869886986d",
   "metadata": {},
   "outputs": [
    {
     "data": {
      "text/html": [
       "<div>\n",
       "<style scoped>\n",
       "    .dataframe tbody tr th:only-of-type {\n",
       "        vertical-align: middle;\n",
       "    }\n",
       "\n",
       "    .dataframe tbody tr th {\n",
       "        vertical-align: top;\n",
       "    }\n",
       "\n",
       "    .dataframe thead th {\n",
       "        text-align: right;\n",
       "    }\n",
       "</style>\n",
       "<table border=\"1\" class=\"dataframe\">\n",
       "  <thead>\n",
       "    <tr style=\"text-align: right;\">\n",
       "      <th></th>\n",
       "      <th>category</th>\n",
       "      <th>reference_code</th>\n",
       "      <th>count</th>\n",
       "    </tr>\n",
       "  </thead>\n",
       "  <tbody>\n",
       "    <tr>\n",
       "      <th>0</th>\n",
       "      <td>Unknown</td>\n",
       "      <td>0315</td>\n",
       "      <td>6</td>\n",
       "    </tr>\n",
       "    <tr>\n",
       "      <th>1</th>\n",
       "      <td>Unknown</td>\n",
       "      <td>0611-</td>\n",
       "      <td>546</td>\n",
       "    </tr>\n",
       "    <tr>\n",
       "      <th>2</th>\n",
       "      <td>Unknown</td>\n",
       "      <td>0811-</td>\n",
       "      <td>455</td>\n",
       "    </tr>\n",
       "    <tr>\n",
       "      <th>3</th>\n",
       "      <td>Unknown</td>\n",
       "      <td>11288</td>\n",
       "      <td>3</td>\n",
       "    </tr>\n",
       "    <tr>\n",
       "      <th>4</th>\n",
       "      <td>Unknown</td>\n",
       "      <td>1182-</td>\n",
       "      <td>91</td>\n",
       "    </tr>\n",
       "    <tr>\n",
       "      <th>...</th>\n",
       "      <td>...</td>\n",
       "      <td>...</td>\n",
       "      <td>...</td>\n",
       "    </tr>\n",
       "    <tr>\n",
       "      <th>814</th>\n",
       "      <td>Watches</td>\n",
       "      <td>84772</td>\n",
       "      <td>3</td>\n",
       "    </tr>\n",
       "    <tr>\n",
       "      <th>815</th>\n",
       "      <td>Watches</td>\n",
       "      <td>84826</td>\n",
       "      <td>3</td>\n",
       "    </tr>\n",
       "    <tr>\n",
       "      <th>816</th>\n",
       "      <td>Watches</td>\n",
       "      <td>85165</td>\n",
       "      <td>3</td>\n",
       "    </tr>\n",
       "    <tr>\n",
       "      <th>817</th>\n",
       "      <td>Watches</td>\n",
       "      <td>85166</td>\n",
       "      <td>3</td>\n",
       "    </tr>\n",
       "    <tr>\n",
       "      <th>818</th>\n",
       "      <td>Watches</td>\n",
       "      <td>85167</td>\n",
       "      <td>3</td>\n",
       "    </tr>\n",
       "  </tbody>\n",
       "</table>\n",
       "<p>819 rows × 3 columns</p>\n",
       "</div>"
      ],
      "text/plain": [
       "    category reference_code  count\n",
       "0    Unknown           0315      6\n",
       "1    Unknown          0611-    546\n",
       "2    Unknown          0811-    455\n",
       "3    Unknown          11288      3\n",
       "4    Unknown          1182-     91\n",
       "..       ...            ...    ...\n",
       "814  Watches          84772      3\n",
       "815  Watches          84826      3\n",
       "816  Watches          85165      3\n",
       "817  Watches          85166      3\n",
       "818  Watches          85167      3\n",
       "\n",
       "[819 rows x 3 columns]"
      ]
     },
     "execution_count": 18,
     "metadata": {},
     "output_type": "execute_result"
    }
   ],
   "source": [
    "df1_1.groupby(['category', 'reference_code']).size().reset_index(name='count')"
   ]
  },
  {
   "cell_type": "code",
   "execution_count": 19,
   "id": "1eaff75d-60ef-443b-bf81-0c2ea0eeb609",
   "metadata": {},
   "outputs": [
    {
     "name": "stdout",
     "output_type": "stream",
     "text": [
      "     brand                               collection reference_code    price  \\\n",
      "0  Chaumet                MONTRE TORSADE DE CHAUMET          84772     <NA>   \n",
      "1  Chaumet  MONTRE À SECRET L'ÉPI DE BLÉ DE CHAUMET          84762     <NA>   \n",
      "2  Chaumet                MONTRE JOSÉPHINE AIGRETTE          85165  89110.0   \n",
      "3  Chaumet                MONTRE JOSÉPHINE AIGRETTE          85166  56330.0   \n",
      "4  Chaumet                MONTRE JOSÉPHINE AIGRETTE          85164  60110.0   \n",
      "\n",
      "  currency country category  \n",
      "0      CNY    None  Watches  \n",
      "1      CNY    None  Watches  \n",
      "2      CNY    None  Watches  \n",
      "3      CNY    None  Watches  \n",
      "4      CNY    None  Unknown  \n"
     ]
    }
   ],
   "source": [
    "# Define the common columns for concatenation\n",
    "selected_columns = ['brand', 'collection', 'reference_code', 'price', 'currency', 'country', 'category']\n",
    "\n",
    "# Concatenate df1_1 and df3 while keeping only the selected columns\n",
    "df4 = pd.concat([df1_1[selected_columns], df3[selected_columns]], ignore_index=True)\n",
    "\n",
    "# Display the concatenated DataFrame\n",
    "print(df4.head())"
   ]
  },
  {
   "cell_type": "code",
   "execution_count": 20,
   "id": "0632af87-98b0-40cf-bbc4-05698215712b",
   "metadata": {},
   "outputs": [],
   "source": [
    "#df5 = pd.read_csv(r\"C:\\Users\\Santanu Pal\\Downloads\\Chaumet_Data (2022+2025) EUR 2.csv\")\n",
    "#df5.head"
   ]
  },
  {
   "cell_type": "code",
   "execution_count": 21,
   "id": "e7a29060-8b4b-4098-8d36-69e55f2d05ec",
   "metadata": {},
   "outputs": [
    {
     "data": {
      "text/plain": [
       "brand                 0\n",
       "collection         9461\n",
       "reference_code        0\n",
       "price              3036\n",
       "currency              0\n",
       "country           22790\n",
       "category              0\n",
       "dtype: int64"
      ]
     },
     "execution_count": 21,
     "metadata": {},
     "output_type": "execute_result"
    }
   ],
   "source": [
    "df4.isnull().sum()"
   ]
  },
  {
   "cell_type": "code",
   "execution_count": 22,
   "id": "9e2d8f01-6c40-421f-9e95-3d1a7a656c2c",
   "metadata": {},
   "outputs": [
    {
     "data": {
      "text/plain": [
       "(23132, 7)"
      ]
     },
     "execution_count": 22,
     "metadata": {},
     "output_type": "execute_result"
    }
   ],
   "source": [
    "df4.shape"
   ]
  },
  {
   "cell_type": "code",
   "execution_count": 23,
   "id": "1ec2b48d-2168-4098-9b2f-b98e3b2f6a78",
   "metadata": {},
   "outputs": [
    {
     "data": {
      "text/plain": [
       "array(['CNY', 'EUR', 'JPY', 'AED', 'KRW', 'HKD', 'GBP', 'SGD', 'TWD'],\n",
       "      dtype=object)"
      ]
     },
     "execution_count": 23,
     "metadata": {},
     "output_type": "execute_result"
    }
   ],
   "source": [
    "df4['currency'].unique()"
   ]
  },
  {
   "cell_type": "code",
   "execution_count": 24,
   "id": "1a725a0d-607e-45f7-847e-1e8fef8962ae",
   "metadata": {},
   "outputs": [
    {
     "name": "stdout",
     "output_type": "stream",
     "text": [
      "     brand                               collection reference_code    price  \\\n",
      "0  Chaumet                MONTRE TORSADE DE CHAUMET          84772     <NA>   \n",
      "1  Chaumet  MONTRE À SECRET L'ÉPI DE BLÉ DE CHAUMET          84762     <NA>   \n",
      "2  Chaumet                MONTRE JOSÉPHINE AIGRETTE          85165  89110.0   \n",
      "3  Chaumet                MONTRE JOSÉPHINE AIGRETTE          85166  56330.0   \n",
      "4  Chaumet                MONTRE JOSÉPHINE AIGRETTE          85164  60110.0   \n",
      "\n",
      "  currency country category  \n",
      "0      CNY   China  Watches  \n",
      "1      CNY   China  Watches  \n",
      "2      CNY   China  Watches  \n",
      "3      CNY   China  Watches  \n",
      "4      CNY   China  Unknown  \n"
     ]
    }
   ],
   "source": [
    "# Define the currency-to-country mapping dictionary\n",
    "currency_to_country = {\n",
    "    \"CNY\": \"China\",\n",
    "    \"EUR\": \"Europe\",\n",
    "    \"JPY\": \"Japan\",\n",
    "    \"AED\": \"United Arab Emirates\",\n",
    "    \"KRW\": \"South Korea\",\n",
    "    \"HKD\": \"Hong Kong\",\n",
    "    \"GBP\": \"United Kingdom\",\n",
    "    \"SGD\": \"Singapore\",\n",
    "    \"TWD\": \"Taiwan\"\n",
    "}\n",
    "\n",
    "# Update the 'country' column based on 'currency' using map()\n",
    "df4['country'] = df4['currency'].map(currency_to_country)\n",
    "\n",
    "# Display updated DataFrame\n",
    "print(df4.head())"
   ]
  },
  {
   "cell_type": "code",
   "execution_count": 25,
   "id": "ff0727ab-dc0a-40ba-81f7-bc5210bc3b7e",
   "metadata": {},
   "outputs": [
    {
     "data": {
      "text/plain": [
       "brand                0\n",
       "collection        9461\n",
       "reference_code       0\n",
       "price             3036\n",
       "currency             0\n",
       "country              0\n",
       "category             0\n",
       "dtype: int64"
      ]
     },
     "execution_count": 25,
     "metadata": {},
     "output_type": "execute_result"
    }
   ],
   "source": [
    "df4.isnull().sum()"
   ]
  },
  {
   "cell_type": "code",
   "execution_count": 26,
   "id": "5a6a62a9-100c-4955-a4b5-3c541e97658e",
   "metadata": {},
   "outputs": [
    {
     "data": {
      "text/plain": [
       "(11690, 7)"
      ]
     },
     "execution_count": 26,
     "metadata": {},
     "output_type": "execute_result"
    }
   ],
   "source": [
    "df5 = df4.dropna()\n",
    "df5.shape"
   ]
  },
  {
   "cell_type": "markdown",
   "id": "3ae3d27a-eaba-4a80-8604-9834460debff",
   "metadata": {},
   "source": [
    "#ExchangeRate Updation"
   ]
  },
  {
   "cell_type": "code",
   "execution_count": 27,
   "id": "246c4cbe-2497-426b-b024-816e51c85c81",
   "metadata": {},
   "outputs": [
    {
     "name": "stdout",
     "output_type": "stream",
     "text": [
      "<bound method NDFrame.head of          brand                 collection reference_code      price currency  \\\n",
      "2      Chaumet  MONTRE JOSÉPHINE AIGRETTE          85165    89110.0      CNY   \n",
      "3      Chaumet  MONTRE JOSÉPHINE AIGRETTE          85166    56330.0      CNY   \n",
      "4      Chaumet  MONTRE JOSÉPHINE AIGRETTE          85164    60110.0      CNY   \n",
      "5      Chaumet  MONTRE JOSÉPHINE AIGRETTE          85168    84430.0      CNY   \n",
      "6      Chaumet  MONTRE JOSÉPHINE AIGRETTE          85167   207010.0      CNY   \n",
      "...        ...                        ...            ...        ...      ...   \n",
      "23126  Chaumet        LES PIERRES DE REVE          84063  1188000.0      TWD   \n",
      "23127  Chaumet        LES PIERRES DE REVE          84207  1188000.0      TWD   \n",
      "23128  Chaumet                   MAHARANI          85193  3844000.0      TWD   \n",
      "23129  Chaumet           OTHER COLLECTION          84530  2569000.0      TWD   \n",
      "23130  Chaumet                 SOUVERAINE          85194  3972000.0      TWD   \n",
      "\n",
      "      country category  price_Eur  \n",
      "2       China  Watches   11709.59  \n",
      "3       China  Watches    7402.10  \n",
      "4       China  Unknown    7898.82  \n",
      "5       China  Unknown   11094.61  \n",
      "6       China  Watches   27202.37  \n",
      "...       ...      ...        ...  \n",
      "23126  Taiwan  Watches   34716.54  \n",
      "23127  Taiwan  Watches   34716.54  \n",
      "23128  Taiwan  Watches  112331.97  \n",
      "23129  Taiwan  Watches   75073.06  \n",
      "23130  Taiwan  Watches  116072.47  \n",
      "\n",
      "[11690 rows x 8 columns]>\n"
     ]
    },
    {
     "name": "stderr",
     "output_type": "stream",
     "text": [
      "C:\\Users\\Santanu Pal\\AppData\\Local\\Temp\\ipykernel_12956\\572372160.py:19: SettingWithCopyWarning: \n",
      "A value is trying to be set on a copy of a slice from a DataFrame.\n",
      "Try using .loc[row_indexer,col_indexer] = value instead\n",
      "\n",
      "See the caveats in the documentation: https://pandas.pydata.org/pandas-docs/stable/user_guide/indexing.html#returning-a-view-versus-a-copy\n",
      "  df5['price_Eur'] = df5.apply(convert_to_eur, axis=1)\n"
     ]
    }
   ],
   "source": [
    "# Exchange rate API settings\n",
    "API_URL = \"https://api.exchangerate-api.com/v4/latest/EUR\"  \n",
    "response = requests.get(API_URL)\n",
    "\n",
    "if response.status_code == 200:\n",
    "    exchange_rates = response.json()[\"rates\"]  \n",
    "\n",
    "    # Function to convert price to EUR\n",
    "    def convert_to_eur(row):\n",
    "        if pd.isna(row['price']):  # If price is missing, return None\n",
    "            return None\n",
    "        if row['currency'] == 'EUR':  # If already in EUR, return the same price\n",
    "            return row['price']\n",
    "        if row['currency'] in exchange_rates:  # Convert other currencies to EUR\n",
    "            return round(row['price'] / exchange_rates[row['currency']], 2)\n",
    "        return None  # If currency not found, return None\n",
    "\n",
    "    # Apply conversion function\n",
    "    df5['price_Eur'] = df5.apply(convert_to_eur, axis=1)\n",
    "\n",
    "    # Display updated DataFrame\n",
    "    print(df5.head)\n",
    "else:\n",
    "    print(\"Error fetching exchange rates!\")"
   ]
  },
  {
   "cell_type": "code",
   "execution_count": 28,
   "id": "2b5e2b6e-1ba0-46e6-94a6-2492400af674",
   "metadata": {},
   "outputs": [
    {
     "data": {
      "text/html": [
       "<div>\n",
       "<style scoped>\n",
       "    .dataframe tbody tr th:only-of-type {\n",
       "        vertical-align: middle;\n",
       "    }\n",
       "\n",
       "    .dataframe tbody tr th {\n",
       "        vertical-align: top;\n",
       "    }\n",
       "\n",
       "    .dataframe thead th {\n",
       "        text-align: right;\n",
       "    }\n",
       "</style>\n",
       "<table border=\"1\" class=\"dataframe\">\n",
       "  <thead>\n",
       "    <tr style=\"text-align: right;\">\n",
       "      <th></th>\n",
       "      <th>brand</th>\n",
       "      <th>collection</th>\n",
       "      <th>reference_code</th>\n",
       "      <th>price</th>\n",
       "      <th>currency</th>\n",
       "      <th>country</th>\n",
       "      <th>category</th>\n",
       "      <th>price_Eur</th>\n",
       "    </tr>\n",
       "  </thead>\n",
       "  <tbody>\n",
       "    <tr>\n",
       "      <th>0</th>\n",
       "      <td>Chaumet</td>\n",
       "      <td>MONTRE JOSÉPHINE AIGRETTE</td>\n",
       "      <td>85165</td>\n",
       "      <td>89110.0</td>\n",
       "      <td>CNY</td>\n",
       "      <td>China</td>\n",
       "      <td>Watches</td>\n",
       "      <td>11709.59</td>\n",
       "    </tr>\n",
       "  </tbody>\n",
       "</table>\n",
       "</div>"
      ],
      "text/plain": [
       "     brand                 collection reference_code    price currency  \\\n",
       "0  Chaumet  MONTRE JOSÉPHINE AIGRETTE          85165  89110.0      CNY   \n",
       "\n",
       "  country category  price_Eur  \n",
       "0   China  Watches   11709.59  "
      ]
     },
     "execution_count": 28,
     "metadata": {},
     "output_type": "execute_result"
    }
   ],
   "source": [
    "df5.reset_index(drop=True, inplace=True)\n",
    "df5.head(1)"
   ]
  },
  {
   "cell_type": "markdown",
   "id": "34ae854c-9013-4ac1-b61e-7e6a1c7f0263",
   "metadata": {},
   "source": [
    "Uploading the Modified Table to BigQuery"
   ]
  },
  {
   "cell_type": "code",
   "execution_count": 29,
   "id": "01bd348e-293a-4951-b520-d4917e6ea5a1",
   "metadata": {},
   "outputs": [
    {
     "name": "stdout",
     "output_type": "stream",
     "text": [
      "Collecting pandas-gbq\n",
      "  Downloading pandas_gbq-0.27.0-py2.py3-none-any.whl.metadata (3.3 kB)\n",
      "Requirement already satisfied: google-cloud-bigquery in d:\\anaconda3\\lib\\site-packages (3.29.0)\n",
      "Requirement already satisfied: setuptools in d:\\anaconda3\\lib\\site-packages (from pandas-gbq) (75.1.0)\n",
      "Requirement already satisfied: db-dtypes<2.0.0,>=1.0.4 in d:\\anaconda3\\lib\\site-packages (from pandas-gbq) (1.4.1)\n",
      "Requirement already satisfied: numpy>=1.18.1 in d:\\anaconda3\\lib\\site-packages (from pandas-gbq) (1.26.4)\n",
      "Requirement already satisfied: pandas>=1.1.4 in d:\\anaconda3\\lib\\site-packages (from pandas-gbq) (2.2.2)\n",
      "Requirement already satisfied: pyarrow>=4.0.0 in d:\\anaconda3\\lib\\site-packages (from pandas-gbq) (16.1.0)\n",
      "Collecting pydata-google-auth>=1.5.0 (from pandas-gbq)\n",
      "  Downloading pydata_google_auth-1.9.1-py2.py3-none-any.whl.metadata (2.8 kB)\n",
      "Requirement already satisfied: google-api-core<3.0.0dev,>=2.10.2 in d:\\anaconda3\\lib\\site-packages (from pandas-gbq) (2.24.1)\n",
      "Requirement already satisfied: google-auth>=2.13.0 in d:\\anaconda3\\lib\\site-packages (from pandas-gbq) (2.38.0)\n",
      "Collecting google-auth-oauthlib>=0.7.0 (from pandas-gbq)\n",
      "  Downloading google_auth_oauthlib-1.2.1-py2.py3-none-any.whl.metadata (2.7 kB)\n",
      "Requirement already satisfied: packaging>=22.0.0 in d:\\anaconda3\\lib\\site-packages (from pandas-gbq) (24.1)\n",
      "Requirement already satisfied: google-cloud-core<3.0.0dev,>=2.4.1 in d:\\anaconda3\\lib\\site-packages (from google-cloud-bigquery) (2.4.1)\n",
      "Requirement already satisfied: google-resumable-media<3.0dev,>=2.0.0 in d:\\anaconda3\\lib\\site-packages (from google-cloud-bigquery) (2.7.2)\n",
      "Requirement already satisfied: python-dateutil<3.0dev,>=2.7.3 in d:\\anaconda3\\lib\\site-packages (from google-cloud-bigquery) (2.9.0.post0)\n",
      "Requirement already satisfied: requests<3.0.0dev,>=2.21.0 in d:\\anaconda3\\lib\\site-packages (from google-cloud-bigquery) (2.32.3)\n",
      "Requirement already satisfied: googleapis-common-protos<2.0.dev0,>=1.56.2 in d:\\anaconda3\\lib\\site-packages (from google-api-core<3.0.0dev,>=2.10.2->pandas-gbq) (1.67.0)\n",
      "Requirement already satisfied: protobuf!=3.20.0,!=3.20.1,!=4.21.0,!=4.21.1,!=4.21.2,!=4.21.3,!=4.21.4,!=4.21.5,<6.0.0.dev0,>=3.19.5 in d:\\anaconda3\\lib\\site-packages (from google-api-core<3.0.0dev,>=2.10.2->pandas-gbq) (5.29.3)\n",
      "Requirement already satisfied: proto-plus<2.0.0dev,>=1.22.3 in d:\\anaconda3\\lib\\site-packages (from google-api-core<3.0.0dev,>=2.10.2->pandas-gbq) (1.26.0)\n",
      "Requirement already satisfied: grpcio<2.0dev,>=1.33.2 in d:\\anaconda3\\lib\\site-packages (from google-api-core[grpc]<3.0.0dev,>=2.11.1->google-cloud-bigquery) (1.70.0)\n",
      "Requirement already satisfied: grpcio-status<2.0.dev0,>=1.33.2 in d:\\anaconda3\\lib\\site-packages (from google-api-core[grpc]<3.0.0dev,>=2.11.1->google-cloud-bigquery) (1.70.0)\n",
      "Requirement already satisfied: cachetools<6.0,>=2.0.0 in d:\\anaconda3\\lib\\site-packages (from google-auth>=2.13.0->pandas-gbq) (5.3.3)\n",
      "Requirement already satisfied: pyasn1-modules>=0.2.1 in d:\\anaconda3\\lib\\site-packages (from google-auth>=2.13.0->pandas-gbq) (0.2.8)\n",
      "Requirement already satisfied: rsa<5,>=3.1.4 in d:\\anaconda3\\lib\\site-packages (from google-auth>=2.13.0->pandas-gbq) (4.9)\n",
      "Collecting requests-oauthlib>=0.7.0 (from google-auth-oauthlib>=0.7.0->pandas-gbq)\n",
      "  Downloading requests_oauthlib-2.0.0-py2.py3-none-any.whl.metadata (11 kB)\n",
      "Requirement already satisfied: google-crc32c<2.0dev,>=1.0 in d:\\anaconda3\\lib\\site-packages (from google-resumable-media<3.0dev,>=2.0.0->google-cloud-bigquery) (1.6.0)\n",
      "Requirement already satisfied: pytz>=2020.1 in d:\\anaconda3\\lib\\site-packages (from pandas>=1.1.4->pandas-gbq) (2024.1)\n",
      "Requirement already satisfied: tzdata>=2022.7 in d:\\anaconda3\\lib\\site-packages (from pandas>=1.1.4->pandas-gbq) (2023.3)\n",
      "Requirement already satisfied: six>=1.5 in d:\\anaconda3\\lib\\site-packages (from python-dateutil<3.0dev,>=2.7.3->google-cloud-bigquery) (1.16.0)\n",
      "Requirement already satisfied: charset-normalizer<4,>=2 in d:\\anaconda3\\lib\\site-packages (from requests<3.0.0dev,>=2.21.0->google-cloud-bigquery) (3.3.2)\n",
      "Requirement already satisfied: idna<4,>=2.5 in d:\\anaconda3\\lib\\site-packages (from requests<3.0.0dev,>=2.21.0->google-cloud-bigquery) (3.7)\n",
      "Requirement already satisfied: urllib3<3,>=1.21.1 in d:\\anaconda3\\lib\\site-packages (from requests<3.0.0dev,>=2.21.0->google-cloud-bigquery) (2.2.3)\n",
      "Requirement already satisfied: certifi>=2017.4.17 in d:\\anaconda3\\lib\\site-packages (from requests<3.0.0dev,>=2.21.0->google-cloud-bigquery) (2024.8.30)\n",
      "Requirement already satisfied: pyasn1<0.5.0,>=0.4.6 in d:\\anaconda3\\lib\\site-packages (from pyasn1-modules>=0.2.1->google-auth>=2.13.0->pandas-gbq) (0.4.8)\n",
      "Collecting oauthlib>=3.0.0 (from requests-oauthlib>=0.7.0->google-auth-oauthlib>=0.7.0->pandas-gbq)\n",
      "  Downloading oauthlib-3.2.2-py3-none-any.whl.metadata (7.5 kB)\n",
      "Downloading pandas_gbq-0.27.0-py2.py3-none-any.whl (37 kB)\n",
      "Downloading google_auth_oauthlib-1.2.1-py2.py3-none-any.whl (24 kB)\n",
      "Downloading pydata_google_auth-1.9.1-py2.py3-none-any.whl (15 kB)\n",
      "Downloading requests_oauthlib-2.0.0-py2.py3-none-any.whl (24 kB)\n",
      "Downloading oauthlib-3.2.2-py3-none-any.whl (151 kB)\n",
      "Installing collected packages: oauthlib, requests-oauthlib, google-auth-oauthlib, pydata-google-auth, pandas-gbq\n",
      "Successfully installed google-auth-oauthlib-1.2.1 oauthlib-3.2.2 pandas-gbq-0.27.0 pydata-google-auth-1.9.1 requests-oauthlib-2.0.0\n"
     ]
    }
   ],
   "source": [
    "!pip install pandas-gbq google-cloud-bigquery"
   ]
  },
  {
   "cell_type": "markdown",
   "id": "00dc95db-8a3c-4396-820c-8b74d88bda23",
   "metadata": {},
   "source": [
    "#Uploading to a Bigquery."
   ]
  },
  {
   "cell_type": "code",
   "execution_count": 31,
   "id": "0c17e0bc-25b4-4d46-976f-8fe9960251b1",
   "metadata": {},
   "outputs": [
    {
     "name": "stdout",
     "output_type": "stream",
     "text": [
      "Dataset 'groupprojectdata' not found. Creating it now...\n",
      "Dataset 'groupprojectdata' created successfully.\n",
      "✅ Data successfully uploaded to biqquery-demo-451221.groupprojectdata.your_table_name\n"
     ]
    }
   ],
   "source": [
    "project_id = \"biqquery-demo-451221\"\n",
    "dataset_id = \"groupprojectdata\"\n",
    "table_id = \"your_table_name\"\n",
    "\n",
    "# Full table reference\n",
    "table_full_name = f\"{project_id}.{dataset_id}.{table_id}\"\n",
    "\n",
    "# Step 1: Create dataset if it does not exist\n",
    "dataset_ref = client.dataset(dataset_id, project=project_id)\n",
    "try:\n",
    "    client.get_dataset(dataset_ref)  # Check if dataset exists\n",
    "    print(f\"Dataset '{dataset_id}' already exists.\")\n",
    "except Exception:\n",
    "    print(f\"Dataset '{dataset_id}' not found. Creating it now...\")\n",
    "    dataset = bigquery.Dataset(f\"{project_id}.{dataset_id}\")\n",
    "    dataset.location = \"US\"  # Set dataset location (Modify if needed)\n",
    "    client.create_dataset(dataset, exists_ok=True)\n",
    "    print(f\"Dataset '{dataset_id}' created successfully.\")\n",
    "\n",
    "# Step 2: Define Job Configuration\n",
    "job_config = bigquery.LoadJobConfig(\n",
    "    write_disposition=\"WRITE_TRUNCATE\",  # Replace table if exists (use \"WRITE_APPEND\" to append)\n",
    "    autodetect=True,  # Automatically detects schema from DataFrame\n",
    ")\n",
    "\n",
    "# Step 3: Upload DataFrame (df5) to BigQuery\n",
    "job = client.load_table_from_dataframe(df5, table_full_name, job_config=job_config)\n",
    "job.result()  # Wait for job to complete\n",
    "\n",
    "print(f\" Data successfully uploaded to {table_full_name}\")\n"
   ]
  },
  {
   "cell_type": "code",
   "execution_count": null,
   "id": "e0b040ba-22b5-4ab7-917f-403eeb908ae1",
   "metadata": {},
   "outputs": [],
   "source": []
  }
 ],
 "metadata": {
  "kernelspec": {
   "display_name": "env",
   "language": "python",
   "name": "python3"
  },
  "language_info": {
   "codemirror_mode": {
    "name": "ipython",
    "version": 3
   },
   "file_extension": ".py",
   "mimetype": "text/x-python",
   "name": "python",
   "nbconvert_exporter": "python",
   "pygments_lexer": "ipython3",
   "version": "3.12.7"
  }
 },
 "nbformat": 4,
 "nbformat_minor": 5
}
